{
 "cells": [
  {
   "cell_type": "code",
   "execution_count": 6,
   "metadata": {},
   "outputs": [],
   "source": [
    "class Car:\n",
    "    categorie='luxury'\n",
    "    def __init__(self, make, model):\n",
    "        self.make = make\n",
    "        self.model = model\n",
    "    def max_speed(self, speed):\n",
    "        return \"%s max speed is %s km/h\" %(self.model,speed)\n",
    "fer = Car(\"ferrari\",\"Bently\")\n",
    "Mer = Car(\"golf\",\"7\")\n"
   ]
  },
  {
   "cell_type": "code",
   "execution_count": 2,
   "metadata": {},
   "outputs": [
    {
     "name": "stdout",
     "output_type": "stream",
     "text": [
      "luxury\n"
     ]
    }
   ],
   "source": [
    "print(fer.__class__.categorie)"
   ]
  },
  {
   "cell_type": "code",
   "execution_count": 7,
   "metadata": {},
   "outputs": [
    {
     "name": "stdout",
     "output_type": "stream",
     "text": [
      "Bently max speed is 320 km/h\n"
     ]
    }
   ],
   "source": [
    "print(fer.max_speed(320))"
   ]
  },
  {
   "cell_type": "code",
   "execution_count": 3,
   "metadata": {},
   "outputs": [
    {
     "name": "stdout",
     "output_type": "stream",
     "text": [
      "luxury\n"
     ]
    }
   ],
   "source": [
    "print(Mer.__class__.categorie)"
   ]
  },
  {
   "cell_type": "code",
   "execution_count": 54,
   "metadata": {},
   "outputs": [],
   "source": [
    "class Polygone:\n",
    "    def __init__(self,nbr_of_sides):\n",
    "        self.n = nbr_of_sides\n",
    "        self.sides = [0 for i in range(nbr_of_sides)]\n",
    "    def input_side(self):\n",
    "        self.sides=[float(input('Entre sides: '+str(i+1)+':'))\n",
    "                         for i in range(self.n)]\n",
    "    def output_side(self):\n",
    "     for i in range(self.n):\n",
    "        print(\"sides de \",i+1,'is',self.sides[i])\n",
    "      \n",
    "        \n",
    "                   "
   ]
  },
  {
   "cell_type": "code",
   "execution_count": 13,
   "metadata": {},
   "outputs": [
    {
     "data": {
      "text/plain": [
       "[0, 0, 0, 0, 0]"
      ]
     },
     "execution_count": 13,
     "metadata": {},
     "output_type": "execute_result"
    }
   ],
   "source": [
    "[0 for i in range(5)]"
   ]
  },
  {
   "cell_type": "code",
   "execution_count": 55,
   "metadata": {},
   "outputs": [],
   "source": [
    "pol=Polygone(3)"
   ]
  },
  {
   "cell_type": "code",
   "execution_count": 56,
   "metadata": {},
   "outputs": [
    {
     "name": "stdout",
     "output_type": "stream",
     "text": [
      "Entre sides: 1:2\n",
      "Entre sides: 2:3\n",
      "Entre sides: 3:3\n"
     ]
    }
   ],
   "source": [
    "pol.input_side()"
   ]
  },
  {
   "cell_type": "code",
   "execution_count": 57,
   "metadata": {},
   "outputs": [
    {
     "name": "stdout",
     "output_type": "stream",
     "text": [
      "sides de  1 is 2.0\n",
      "sides de  2 is 3.0\n",
      "sides de  3 is 3.0\n"
     ]
    }
   ],
   "source": [
    "pol.output_side()"
   ]
  },
  {
   "cell_type": "code",
   "execution_count": 60,
   "metadata": {},
   "outputs": [],
   "source": [
    "class Triangle( Polygone):\n",
    "    def __init__(self):\n",
    "        Polygone.__init__(self,3)\n",
    "    def findArea(self):\n",
    "        a,b,c=self.sides\n",
    "        s=(a+b+c)/2\n",
    "        area = (s*(s-a)*(s-b)*(s-c))**0,5\n",
    "        print('the area of the triangle is ')"
   ]
  },
  {
   "cell_type": "code",
   "execution_count": 63,
   "metadata": {},
   "outputs": [],
   "source": [
    "tr=Triangle()"
   ]
  },
  {
   "cell_type": "code",
   "execution_count": 65,
   "metadata": {},
   "outputs": [
    {
     "name": "stdout",
     "output_type": "stream",
     "text": [
      "Entre sides: 1:1\n",
      "Entre sides: 2:3\n",
      "Entre sides: 3:3\n"
     ]
    }
   ],
   "source": [
    "tr.input_side()"
   ]
  },
  {
   "cell_type": "code",
   "execution_count": 15,
   "metadata": {},
   "outputs": [],
   "source": [
    "def fct(ch):\n",
    "    my_list=ch.split()\n",
    "    myset=set(my_list)\n",
    "    my_dict={}\n",
    "    for l in myset:\n",
    "        my_dict[l]=my_list.count(l)\n",
    "    return my_dict\n",
    "\n",
    "    "
   ]
  },
  {
   "cell_type": "code",
   "execution_count": 16,
   "metadata": {},
   "outputs": [
    {
     "name": "stdout",
     "output_type": "stream",
     "text": [
      "{'bjr': 2, 'mes': 3, 'amis': 1}\n"
     ]
    }
   ],
   "source": [
    "ch='bjr bjr mes mes mes amis'\n",
    "print(fct(ch))"
   ]
  },
  {
   "cell_type": "code",
   "execution_count": null,
   "metadata": {},
   "outputs": [],
   "source": []
  }
 ],
 "metadata": {
  "kernelspec": {
   "display_name": "Python 3",
   "language": "python",
   "name": "python3"
  },
  "language_info": {
   "codemirror_mode": {
    "name": "ipython",
    "version": 3
   },
   "file_extension": ".py",
   "mimetype": "text/x-python",
   "name": "python",
   "nbconvert_exporter": "python",
   "pygments_lexer": "ipython3",
   "version": "3.8.5"
  }
 },
 "nbformat": 4,
 "nbformat_minor": 4
}
